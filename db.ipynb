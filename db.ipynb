{
 "cells": [
  {
   "cell_type": "code",
   "execution_count": 31,
   "metadata": {
    "collapsed": true
   },
   "outputs": [],
   "source": [
    "import sqlalchemy\n",
    "from sqlalchemy.ext.automap import automap_base\n",
    "from sqlalchemy.orm import Session\n",
    "from sqlalchemy import create_engine, func, inspect\n",
    "\n",
    "import numpy as np\n"
   ]
  },
  {
   "cell_type": "code",
   "execution_count": 3,
   "metadata": {
    "collapsed": true
   },
   "outputs": [],
   "source": [
    "engine = create_engine(\"sqlite:///datasets/belly_button_biodiversity.sqlite\")\n",
    "\n",
    "# reflect an existing database into a new model\n",
    "Base = automap_base()\n",
    "# reflect the tables\n",
    "Base.prepare(engine, reflect=True)\n",
    "\n",
    "# Save references to each table\n",
    "otu = Base.classes.otu\n",
    "samples = Base.classes.samples\n",
    "samples_meta = Base.classes.samples_metadata\n",
    "\n",
    "# Create our session (link) from Python to the DB\n",
    "session = Session(engine)\n"
   ]
  },
  {
   "cell_type": "code",
   "execution_count": 5,
   "metadata": {
    "collapsed": true
   },
   "outputs": [],
   "source": [
    "inspector = inspect(engine)"
   ]
  },
  {
   "cell_type": "code",
   "execution_count": 6,
   "metadata": {},
   "outputs": [
    {
     "data": {
      "text/plain": [
       "['otu', 'samples', 'samples_metadata']"
      ]
     },
     "execution_count": 6,
     "metadata": {},
     "output_type": "execute_result"
    }
   ],
   "source": [
    "inspector.get_table_names()"
   ]
  },
  {
   "cell_type": "code",
   "execution_count": 7,
   "metadata": {},
   "outputs": [
    {
     "name": "stdout",
     "output_type": "stream",
     "text": [
      "otu_id INTEGER\n",
      "lowest_taxonomic_unit_found TEXT\n"
     ]
    }
   ],
   "source": [
    "columns = inspector.get_columns('otu')\n",
    "for column in columns:\n",
    "    print(column[\"name\"], column[\"type\"])"
   ]
  },
  {
   "cell_type": "code",
   "execution_count": 44,
   "metadata": {},
   "outputs": [
    {
     "name": "stdout",
     "output_type": "stream",
     "text": [
      "SAMPLEID INTEGER\n",
      "EVENT TEXT\n",
      "ETHNICITY TEXT\n",
      "GENDER TEXT\n",
      "AGE INTEGER\n",
      "WFREQ INTEGER\n",
      "BBTYPE TEXT\n",
      "LOCATION TEXT\n",
      "COUNTRY012 TEXT\n",
      "ZIP012 INTEGER\n",
      "COUNTRY1319 TEXT\n",
      "ZIP1319 INTEGER\n",
      "DOG TEXT\n",
      "CAT TEXT\n",
      "IMPSURFACE013 INTEGER\n",
      "NPP013 FLOAT\n",
      "MMAXTEMP013 FLOAT\n",
      "PFC013 FLOAT\n",
      "IMPSURFACE1319 INTEGER\n",
      "NPP1319 FLOAT\n",
      "MMAXTEMP1319 FLOAT\n",
      "PFC1319 FLOAT\n"
     ]
    }
   ],
   "source": [
    "columns = inspector.get_columns('samples_metadata')\n",
    "for column in columns:\n",
    "    print(column[\"name\"], column[\"type\"])"
   ]
  },
  {
   "cell_type": "code",
   "execution_count": 27,
   "metadata": {},
   "outputs": [],
   "source": [
    "#app.route('/names')\n",
    "columns = inspector.get_columns('samples')\n",
    "names = []\n",
    "for column in columns:\n",
    "    names.append(column['name'])\n",
    "del names[0]\n",
    "#return jsonify(names)"
   ]
  },
  {
   "cell_type": "code",
   "execution_count": 42,
   "metadata": {
    "collapsed": true
   },
   "outputs": [],
   "source": [
    "#app.route('/otu')\n",
    "results = session.query(otu.lowest_taxonomic_unit_found).all()\n",
    "descriptions = [result[0] for result in results]\n",
    "#return jsonify(descriptions)"
   ]
  },
  {
   "cell_type": "code",
   "execution_count": null,
   "metadata": {
    "collapsed": true
   },
   "outputs": [],
   "source": [
    "#@app.route('/metadata/<sample>')\n",
    "def sample_metadata(sample):\n",
    "    sample_id = sample.replace('BB_','')\n",
    "    result = session.query(samples_meta).filter(samples_meta.SAMPLEID == sample_id).first()\n",
    "    metadata = {\n",
    "        'AGE':result.AGE,\n",
    "        'BBTYPE':result.BBTYPE,\n",
    "        'ETHNICITY':result.ETHNICITY,\n",
    "        'GENDER':result.GENDER,\n",
    "        'LOCATION':result.LOCATION,\n",
    "        'SAMPLEID':result.SAMPLEID\n",
    "    }\n",
    "    return jsonify(metadata)"
   ]
  }
 ],
 "metadata": {
  "kernelspec": {
   "display_name": "Python 3",
   "language": "python",
   "name": "python3"
  },
  "language_info": {
   "codemirror_mode": {
    "name": "ipython",
    "version": 3
   },
   "file_extension": ".py",
   "mimetype": "text/x-python",
   "name": "python",
   "nbconvert_exporter": "python",
   "pygments_lexer": "ipython3",
   "version": "3.6.2"
  }
 },
 "nbformat": 4,
 "nbformat_minor": 2
}
